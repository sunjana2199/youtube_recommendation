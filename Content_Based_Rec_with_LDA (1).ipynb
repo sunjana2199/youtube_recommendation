{
  "nbformat": 4,
  "nbformat_minor": 0,
  "metadata": {
    "colab": {
      "name": "Content_Based_Rec_with_LDA.ipynb",
      "provenance": []
    },
    "kernelspec": {
      "name": "python3",
      "display_name": "Python 3"
    },
    "language_info": {
      "name": "python"
    }
  },
  "cells": [
    {
      "cell_type": "markdown",
      "source": [
        " ***Recommedation System with LDA***"
      ],
      "metadata": {
        "id": "-sVo21Cxudm0"
      }
    },
    {
      "cell_type": "code",
      "execution_count": null,
      "metadata": {
        "id": "k9FAl5Z0c2eG"
      },
      "outputs": [],
      "source": [
        "import pandas as pd\n",
        "import numpy as np\n"
      ]
    },
    {
      "cell_type": "code",
      "source": [
        "from google.colab import drive \n",
        "drive.mount('/content/gdrive')\n",
        "\n",
        "# To make this read work, please right click on the csv file in shared folder, click \"add shortcut to drive\", and save it in \"My Drive\"\n",
        "df = pd.read_csv('gdrive/My Drive/CAvideos.csv')\n",
        "df.info()"
      ],
      "metadata": {
        "id": "4bapTXuudZ31",
        "colab": {
          "base_uri": "https://localhost:8080/"
        },
        "outputId": "8103e35c-40c1-45de-9f13-c647d9d153f2"
      },
      "execution_count": null,
      "outputs": [
        {
          "output_type": "stream",
          "name": "stdout",
          "text": [
            "Drive already mounted at /content/gdrive; to attempt to forcibly remount, call drive.mount(\"/content/gdrive\", force_remount=True).\n",
            "<class 'pandas.core.frame.DataFrame'>\n",
            "RangeIndex: 40881 entries, 0 to 40880\n",
            "Data columns (total 16 columns):\n",
            " #   Column                  Non-Null Count  Dtype \n",
            "---  ------                  --------------  ----- \n",
            " 0   video_id                40881 non-null  object\n",
            " 1   trending_date           40881 non-null  object\n",
            " 2   title                   40881 non-null  object\n",
            " 3   channel_title           40881 non-null  object\n",
            " 4   category_id             40881 non-null  int64 \n",
            " 5   publish_time            40881 non-null  object\n",
            " 6   tags                    40881 non-null  object\n",
            " 7   views                   40881 non-null  int64 \n",
            " 8   likes                   40881 non-null  int64 \n",
            " 9   dislikes                40881 non-null  int64 \n",
            " 10  comment_count           40881 non-null  int64 \n",
            " 11  thumbnail_link          40881 non-null  object\n",
            " 12  comments_disabled       40881 non-null  bool  \n",
            " 13  ratings_disabled        40881 non-null  bool  \n",
            " 14  video_error_or_removed  40881 non-null  bool  \n",
            " 15  description             39585 non-null  object\n",
            "dtypes: bool(3), int64(5), object(8)\n",
            "memory usage: 4.2+ MB\n"
          ]
        }
      ]
    },
    {
      "cell_type": "code",
      "source": [
        "df.head()"
      ],
      "metadata": {
        "colab": {
          "base_uri": "https://localhost:8080/",
          "height": 617
        },
        "id": "NLtDL60tdZ7C",
        "outputId": "888ab550-d0d1-4447-e7cc-097611e45c21"
      },
      "execution_count": null,
      "outputs": [
        {
          "output_type": "execute_result",
          "data": {
            "text/plain": [
              "      video_id trending_date  \\\n",
              "0  n1WpP7iowLc      17.14.11   \n",
              "1  0dBIkQ4Mz1M      17.14.11   \n",
              "2  5qpjK5DgCt4      17.14.11   \n",
              "3  d380meD0W0M      17.14.11   \n",
              "4  2Vv-BfVoq4g      17.14.11   \n",
              "\n",
              "                                               title channel_title  \\\n",
              "0         Eminem - Walk On Water (Audio) ft. Beyoncé    EminemVEVO   \n",
              "1                      PLUSH - Bad Unboxing Fan Mail     iDubbbzTV   \n",
              "2  Racist Superman | Rudy Mancuso, King Bach & Le...  Rudy Mancuso   \n",
              "3                           I Dare You: GOING BALD!?      nigahiga   \n",
              "4        Ed Sheeran - Perfect (Official Music Video)    Ed Sheeran   \n",
              "\n",
              "   category_id              publish_time  \\\n",
              "0           10  2017-11-10T17:00:03.000Z   \n",
              "1           23  2017-11-13T17:00:00.000Z   \n",
              "2           23  2017-11-12T19:05:24.000Z   \n",
              "3           24  2017-11-12T18:01:41.000Z   \n",
              "4           10  2017-11-09T11:04:14.000Z   \n",
              "\n",
              "                                                tags     views    likes  \\\n",
              "0  Eminem|\"Walk\"|\"On\"|\"Water\"|\"Aftermath/Shady/In...  17158579   787425   \n",
              "1  plush|\"bad unboxing\"|\"unboxing\"|\"fan mail\"|\"id...   1014651   127794   \n",
              "2  racist superman|\"rudy\"|\"mancuso\"|\"king\"|\"bach\"...   3191434   146035   \n",
              "3  ryan|\"higa\"|\"higatv\"|\"nigahiga\"|\"i dare you\"|\"...   2095828   132239   \n",
              "4  edsheeran|\"ed sheeran\"|\"acoustic\"|\"live\"|\"cove...  33523622  1634130   \n",
              "\n",
              "   dislikes  comment_count                                  thumbnail_link  \\\n",
              "0     43420         125882  https://i.ytimg.com/vi/n1WpP7iowLc/default.jpg   \n",
              "1      1688          13030  https://i.ytimg.com/vi/0dBIkQ4Mz1M/default.jpg   \n",
              "2      5339           8181  https://i.ytimg.com/vi/5qpjK5DgCt4/default.jpg   \n",
              "3      1989          17518  https://i.ytimg.com/vi/d380meD0W0M/default.jpg   \n",
              "4     21082          85067  https://i.ytimg.com/vi/2Vv-BfVoq4g/default.jpg   \n",
              "\n",
              "   comments_disabled  ratings_disabled  video_error_or_removed  \\\n",
              "0              False             False                   False   \n",
              "1              False             False                   False   \n",
              "2              False             False                   False   \n",
              "3              False             False                   False   \n",
              "4              False             False                   False   \n",
              "\n",
              "                                         description  \n",
              "0  Eminem's new track Walk on Water ft. Beyoncé i...  \n",
              "1  STill got a lot of packages. Probably will las...  \n",
              "2  WATCH MY PREVIOUS VIDEO ▶ \\n\\nSUBSCRIBE ► http...  \n",
              "3  I know it's been a while since we did this sho...  \n",
              "4  🎧: https://ad.gt/yt-perfect\\n💰: https://atlant...  "
            ],
            "text/html": [
              "\n",
              "  <div id=\"df-0318a44b-74ca-4b53-9a9d-f7a9ebf6c360\">\n",
              "    <div class=\"colab-df-container\">\n",
              "      <div>\n",
              "<style scoped>\n",
              "    .dataframe tbody tr th:only-of-type {\n",
              "        vertical-align: middle;\n",
              "    }\n",
              "\n",
              "    .dataframe tbody tr th {\n",
              "        vertical-align: top;\n",
              "    }\n",
              "\n",
              "    .dataframe thead th {\n",
              "        text-align: right;\n",
              "    }\n",
              "</style>\n",
              "<table border=\"1\" class=\"dataframe\">\n",
              "  <thead>\n",
              "    <tr style=\"text-align: right;\">\n",
              "      <th></th>\n",
              "      <th>video_id</th>\n",
              "      <th>trending_date</th>\n",
              "      <th>title</th>\n",
              "      <th>channel_title</th>\n",
              "      <th>category_id</th>\n",
              "      <th>publish_time</th>\n",
              "      <th>tags</th>\n",
              "      <th>views</th>\n",
              "      <th>likes</th>\n",
              "      <th>dislikes</th>\n",
              "      <th>comment_count</th>\n",
              "      <th>thumbnail_link</th>\n",
              "      <th>comments_disabled</th>\n",
              "      <th>ratings_disabled</th>\n",
              "      <th>video_error_or_removed</th>\n",
              "      <th>description</th>\n",
              "    </tr>\n",
              "  </thead>\n",
              "  <tbody>\n",
              "    <tr>\n",
              "      <th>0</th>\n",
              "      <td>n1WpP7iowLc</td>\n",
              "      <td>17.14.11</td>\n",
              "      <td>Eminem - Walk On Water (Audio) ft. Beyoncé</td>\n",
              "      <td>EminemVEVO</td>\n",
              "      <td>10</td>\n",
              "      <td>2017-11-10T17:00:03.000Z</td>\n",
              "      <td>Eminem|\"Walk\"|\"On\"|\"Water\"|\"Aftermath/Shady/In...</td>\n",
              "      <td>17158579</td>\n",
              "      <td>787425</td>\n",
              "      <td>43420</td>\n",
              "      <td>125882</td>\n",
              "      <td>https://i.ytimg.com/vi/n1WpP7iowLc/default.jpg</td>\n",
              "      <td>False</td>\n",
              "      <td>False</td>\n",
              "      <td>False</td>\n",
              "      <td>Eminem's new track Walk on Water ft. Beyoncé i...</td>\n",
              "    </tr>\n",
              "    <tr>\n",
              "      <th>1</th>\n",
              "      <td>0dBIkQ4Mz1M</td>\n",
              "      <td>17.14.11</td>\n",
              "      <td>PLUSH - Bad Unboxing Fan Mail</td>\n",
              "      <td>iDubbbzTV</td>\n",
              "      <td>23</td>\n",
              "      <td>2017-11-13T17:00:00.000Z</td>\n",
              "      <td>plush|\"bad unboxing\"|\"unboxing\"|\"fan mail\"|\"id...</td>\n",
              "      <td>1014651</td>\n",
              "      <td>127794</td>\n",
              "      <td>1688</td>\n",
              "      <td>13030</td>\n",
              "      <td>https://i.ytimg.com/vi/0dBIkQ4Mz1M/default.jpg</td>\n",
              "      <td>False</td>\n",
              "      <td>False</td>\n",
              "      <td>False</td>\n",
              "      <td>STill got a lot of packages. Probably will las...</td>\n",
              "    </tr>\n",
              "    <tr>\n",
              "      <th>2</th>\n",
              "      <td>5qpjK5DgCt4</td>\n",
              "      <td>17.14.11</td>\n",
              "      <td>Racist Superman | Rudy Mancuso, King Bach &amp; Le...</td>\n",
              "      <td>Rudy Mancuso</td>\n",
              "      <td>23</td>\n",
              "      <td>2017-11-12T19:05:24.000Z</td>\n",
              "      <td>racist superman|\"rudy\"|\"mancuso\"|\"king\"|\"bach\"...</td>\n",
              "      <td>3191434</td>\n",
              "      <td>146035</td>\n",
              "      <td>5339</td>\n",
              "      <td>8181</td>\n",
              "      <td>https://i.ytimg.com/vi/5qpjK5DgCt4/default.jpg</td>\n",
              "      <td>False</td>\n",
              "      <td>False</td>\n",
              "      <td>False</td>\n",
              "      <td>WATCH MY PREVIOUS VIDEO ▶ \\n\\nSUBSCRIBE ► http...</td>\n",
              "    </tr>\n",
              "    <tr>\n",
              "      <th>3</th>\n",
              "      <td>d380meD0W0M</td>\n",
              "      <td>17.14.11</td>\n",
              "      <td>I Dare You: GOING BALD!?</td>\n",
              "      <td>nigahiga</td>\n",
              "      <td>24</td>\n",
              "      <td>2017-11-12T18:01:41.000Z</td>\n",
              "      <td>ryan|\"higa\"|\"higatv\"|\"nigahiga\"|\"i dare you\"|\"...</td>\n",
              "      <td>2095828</td>\n",
              "      <td>132239</td>\n",
              "      <td>1989</td>\n",
              "      <td>17518</td>\n",
              "      <td>https://i.ytimg.com/vi/d380meD0W0M/default.jpg</td>\n",
              "      <td>False</td>\n",
              "      <td>False</td>\n",
              "      <td>False</td>\n",
              "      <td>I know it's been a while since we did this sho...</td>\n",
              "    </tr>\n",
              "    <tr>\n",
              "      <th>4</th>\n",
              "      <td>2Vv-BfVoq4g</td>\n",
              "      <td>17.14.11</td>\n",
              "      <td>Ed Sheeran - Perfect (Official Music Video)</td>\n",
              "      <td>Ed Sheeran</td>\n",
              "      <td>10</td>\n",
              "      <td>2017-11-09T11:04:14.000Z</td>\n",
              "      <td>edsheeran|\"ed sheeran\"|\"acoustic\"|\"live\"|\"cove...</td>\n",
              "      <td>33523622</td>\n",
              "      <td>1634130</td>\n",
              "      <td>21082</td>\n",
              "      <td>85067</td>\n",
              "      <td>https://i.ytimg.com/vi/2Vv-BfVoq4g/default.jpg</td>\n",
              "      <td>False</td>\n",
              "      <td>False</td>\n",
              "      <td>False</td>\n",
              "      <td>🎧: https://ad.gt/yt-perfect\\n💰: https://atlant...</td>\n",
              "    </tr>\n",
              "  </tbody>\n",
              "</table>\n",
              "</div>\n",
              "      <button class=\"colab-df-convert\" onclick=\"convertToInteractive('df-0318a44b-74ca-4b53-9a9d-f7a9ebf6c360')\"\n",
              "              title=\"Convert this dataframe to an interactive table.\"\n",
              "              style=\"display:none;\">\n",
              "        \n",
              "  <svg xmlns=\"http://www.w3.org/2000/svg\" height=\"24px\"viewBox=\"0 0 24 24\"\n",
              "       width=\"24px\">\n",
              "    <path d=\"M0 0h24v24H0V0z\" fill=\"none\"/>\n",
              "    <path d=\"M18.56 5.44l.94 2.06.94-2.06 2.06-.94-2.06-.94-.94-2.06-.94 2.06-2.06.94zm-11 1L8.5 8.5l.94-2.06 2.06-.94-2.06-.94L8.5 2.5l-.94 2.06-2.06.94zm10 10l.94 2.06.94-2.06 2.06-.94-2.06-.94-.94-2.06-.94 2.06-2.06.94z\"/><path d=\"M17.41 7.96l-1.37-1.37c-.4-.4-.92-.59-1.43-.59-.52 0-1.04.2-1.43.59L10.3 9.45l-7.72 7.72c-.78.78-.78 2.05 0 2.83L4 21.41c.39.39.9.59 1.41.59.51 0 1.02-.2 1.41-.59l7.78-7.78 2.81-2.81c.8-.78.8-2.07 0-2.86zM5.41 20L4 18.59l7.72-7.72 1.47 1.35L5.41 20z\"/>\n",
              "  </svg>\n",
              "      </button>\n",
              "      \n",
              "  <style>\n",
              "    .colab-df-container {\n",
              "      display:flex;\n",
              "      flex-wrap:wrap;\n",
              "      gap: 12px;\n",
              "    }\n",
              "\n",
              "    .colab-df-convert {\n",
              "      background-color: #E8F0FE;\n",
              "      border: none;\n",
              "      border-radius: 50%;\n",
              "      cursor: pointer;\n",
              "      display: none;\n",
              "      fill: #1967D2;\n",
              "      height: 32px;\n",
              "      padding: 0 0 0 0;\n",
              "      width: 32px;\n",
              "    }\n",
              "\n",
              "    .colab-df-convert:hover {\n",
              "      background-color: #E2EBFA;\n",
              "      box-shadow: 0px 1px 2px rgba(60, 64, 67, 0.3), 0px 1px 3px 1px rgba(60, 64, 67, 0.15);\n",
              "      fill: #174EA6;\n",
              "    }\n",
              "\n",
              "    [theme=dark] .colab-df-convert {\n",
              "      background-color: #3B4455;\n",
              "      fill: #D2E3FC;\n",
              "    }\n",
              "\n",
              "    [theme=dark] .colab-df-convert:hover {\n",
              "      background-color: #434B5C;\n",
              "      box-shadow: 0px 1px 3px 1px rgba(0, 0, 0, 0.15);\n",
              "      filter: drop-shadow(0px 1px 2px rgba(0, 0, 0, 0.3));\n",
              "      fill: #FFFFFF;\n",
              "    }\n",
              "  </style>\n",
              "\n",
              "      <script>\n",
              "        const buttonEl =\n",
              "          document.querySelector('#df-0318a44b-74ca-4b53-9a9d-f7a9ebf6c360 button.colab-df-convert');\n",
              "        buttonEl.style.display =\n",
              "          google.colab.kernel.accessAllowed ? 'block' : 'none';\n",
              "\n",
              "        async function convertToInteractive(key) {\n",
              "          const element = document.querySelector('#df-0318a44b-74ca-4b53-9a9d-f7a9ebf6c360');\n",
              "          const dataTable =\n",
              "            await google.colab.kernel.invokeFunction('convertToInteractive',\n",
              "                                                     [key], {});\n",
              "          if (!dataTable) return;\n",
              "\n",
              "          const docLinkHtml = 'Like what you see? Visit the ' +\n",
              "            '<a target=\"_blank\" href=https://colab.research.google.com/notebooks/data_table.ipynb>data table notebook</a>'\n",
              "            + ' to learn more about interactive tables.';\n",
              "          element.innerHTML = '';\n",
              "          dataTable['output_type'] = 'display_data';\n",
              "          await google.colab.output.renderOutput(dataTable, element);\n",
              "          const docLink = document.createElement('div');\n",
              "          docLink.innerHTML = docLinkHtml;\n",
              "          element.appendChild(docLink);\n",
              "        }\n",
              "      </script>\n",
              "    </div>\n",
              "  </div>\n",
              "  "
            ]
          },
          "metadata": {},
          "execution_count": 62
        }
      ]
    },
    {
      "cell_type": "code",
      "source": [
        "df.shape"
      ],
      "metadata": {
        "colab": {
          "base_uri": "https://localhost:8080/"
        },
        "id": "YxWSZg6zdZ9q",
        "outputId": "4ffb6010-f2aa-4328-be53-98a696a598c8"
      },
      "execution_count": null,
      "outputs": [
        {
          "output_type": "execute_result",
          "data": {
            "text/plain": [
              "(40881, 16)"
            ]
          },
          "metadata": {},
          "execution_count": 63
        }
      ]
    },
    {
      "cell_type": "code",
      "source": [
        "df.columns"
      ],
      "metadata": {
        "colab": {
          "base_uri": "https://localhost:8080/"
        },
        "id": "K5c4jrw8daAW",
        "outputId": "2e466c73-c66f-43a4-a35c-93b3962a618a"
      },
      "execution_count": null,
      "outputs": [
        {
          "output_type": "execute_result",
          "data": {
            "text/plain": [
              "Index(['video_id', 'trending_date', 'title', 'channel_title', 'category_id',\n",
              "       'publish_time', 'tags', 'views', 'likes', 'dislikes', 'comment_count',\n",
              "       'thumbnail_link', 'comments_disabled', 'ratings_disabled',\n",
              "       'video_error_or_removed', 'description'],\n",
              "      dtype='object')"
            ]
          },
          "metadata": {},
          "execution_count": 64
        }
      ]
    },
    {
      "cell_type": "code",
      "source": [
        "df.info()"
      ],
      "metadata": {
        "colab": {
          "base_uri": "https://localhost:8080/"
        },
        "id": "mfZ7NK4ydaCw",
        "outputId": "6fc81285-5b80-411a-c05e-9703a5cf2749"
      },
      "execution_count": null,
      "outputs": [
        {
          "output_type": "stream",
          "name": "stdout",
          "text": [
            "<class 'pandas.core.frame.DataFrame'>\n",
            "RangeIndex: 40881 entries, 0 to 40880\n",
            "Data columns (total 16 columns):\n",
            " #   Column                  Non-Null Count  Dtype \n",
            "---  ------                  --------------  ----- \n",
            " 0   video_id                40881 non-null  object\n",
            " 1   trending_date           40881 non-null  object\n",
            " 2   title                   40881 non-null  object\n",
            " 3   channel_title           40881 non-null  object\n",
            " 4   category_id             40881 non-null  int64 \n",
            " 5   publish_time            40881 non-null  object\n",
            " 6   tags                    40881 non-null  object\n",
            " 7   views                   40881 non-null  int64 \n",
            " 8   likes                   40881 non-null  int64 \n",
            " 9   dislikes                40881 non-null  int64 \n",
            " 10  comment_count           40881 non-null  int64 \n",
            " 11  thumbnail_link          40881 non-null  object\n",
            " 12  comments_disabled       40881 non-null  bool  \n",
            " 13  ratings_disabled        40881 non-null  bool  \n",
            " 14  video_error_or_removed  40881 non-null  bool  \n",
            " 15  description             39585 non-null  object\n",
            "dtypes: bool(3), int64(5), object(8)\n",
            "memory usage: 4.2+ MB\n"
          ]
        }
      ]
    },
    {
      "cell_type": "code",
      "source": [
        "df = df.drop(columns=['video_id','trending_date','category_id','publish_time','views', 'likes', 'dislikes', 'comment_count',\n",
        "       'thumbnail_link', 'comments_disabled', 'ratings_disabled',\n",
        "       'video_error_or_removed'])"
      ],
      "metadata": {
        "id": "oY-YVORfdaF6"
      },
      "execution_count": null,
      "outputs": []
    },
    {
      "cell_type": "code",
      "source": [
        "df.columns"
      ],
      "metadata": {
        "colab": {
          "base_uri": "https://localhost:8080/"
        },
        "id": "r78xim1YdaIg",
        "outputId": "773fc202-ae84-438a-b97f-1c46da69123a"
      },
      "execution_count": null,
      "outputs": [
        {
          "output_type": "execute_result",
          "data": {
            "text/plain": [
              "Index(['title', 'channel_title', 'tags', 'description'], dtype='object')"
            ]
          },
          "metadata": {},
          "execution_count": 67
        }
      ]
    },
    {
      "cell_type": "code",
      "source": [
        "df.info()"
      ],
      "metadata": {
        "colab": {
          "base_uri": "https://localhost:8080/"
        },
        "id": "RvijAi_vdaLn",
        "outputId": "646d6b6c-f46c-454c-b4d2-22aac5d1f169"
      },
      "execution_count": null,
      "outputs": [
        {
          "output_type": "stream",
          "name": "stdout",
          "text": [
            "<class 'pandas.core.frame.DataFrame'>\n",
            "RangeIndex: 40881 entries, 0 to 40880\n",
            "Data columns (total 4 columns):\n",
            " #   Column         Non-Null Count  Dtype \n",
            "---  ------         --------------  ----- \n",
            " 0   title          40881 non-null  object\n",
            " 1   channel_title  40881 non-null  object\n",
            " 2   tags           40881 non-null  object\n",
            " 3   description    39585 non-null  object\n",
            "dtypes: object(4)\n",
            "memory usage: 1.2+ MB\n"
          ]
        }
      ]
    },
    {
      "cell_type": "code",
      "source": [
        "df.isnull().sum()"
      ],
      "metadata": {
        "colab": {
          "base_uri": "https://localhost:8080/"
        },
        "id": "abp0hSqZdaOR",
        "outputId": "2024bc4b-f2b7-4e54-9543-3de6c1eb5f61"
      },
      "execution_count": null,
      "outputs": [
        {
          "output_type": "execute_result",
          "data": {
            "text/plain": [
              "title               0\n",
              "channel_title       0\n",
              "tags                0\n",
              "description      1296\n",
              "dtype: int64"
            ]
          },
          "metadata": {},
          "execution_count": 69
        }
      ]
    },
    {
      "cell_type": "code",
      "source": [
        "# df['title'] = df['title'].drop_duplicates()"
      ],
      "metadata": {
        "id": "uKps6GN-daRH"
      },
      "execution_count": null,
      "outputs": []
    },
    {
      "cell_type": "code",
      "source": [
        "df = df.drop_duplicates(subset='title', keep=\"first\")"
      ],
      "metadata": {
        "id": "_Nf3k1iSdaUf"
      },
      "execution_count": null,
      "outputs": []
    },
    {
      "cell_type": "code",
      "source": [
        "df.info()"
      ],
      "metadata": {
        "colab": {
          "base_uri": "https://localhost:8080/"
        },
        "id": "labarHQxdaXE",
        "outputId": "b1c99f37-f570-4a05-de20-f2e21245bca8"
      },
      "execution_count": null,
      "outputs": [
        {
          "output_type": "stream",
          "name": "stdout",
          "text": [
            "<class 'pandas.core.frame.DataFrame'>\n",
            "Int64Index: 24573 entries, 0 to 40880\n",
            "Data columns (total 4 columns):\n",
            " #   Column         Non-Null Count  Dtype \n",
            "---  ------         --------------  ----- \n",
            " 0   title          24573 non-null  object\n",
            " 1   channel_title  24573 non-null  object\n",
            " 2   tags           24573 non-null  object\n",
            " 3   description    23606 non-null  object\n",
            "dtypes: object(4)\n",
            "memory usage: 959.9+ KB\n"
          ]
        }
      ]
    },
    {
      "cell_type": "code",
      "source": [
        "df.isnull().sum()"
      ],
      "metadata": {
        "colab": {
          "base_uri": "https://localhost:8080/"
        },
        "id": "jHOvaS2IdaZ6",
        "outputId": "de67e399-7618-4047-d905-652856020d40"
      },
      "execution_count": null,
      "outputs": [
        {
          "output_type": "execute_result",
          "data": {
            "text/plain": [
              "title              0\n",
              "channel_title      0\n",
              "tags               0\n",
              "description      967\n",
              "dtype: int64"
            ]
          },
          "metadata": {},
          "execution_count": 73
        }
      ]
    },
    {
      "cell_type": "code",
      "source": [
        "df = df.fillna('')"
      ],
      "metadata": {
        "id": "SO8Kzea7dadB"
      },
      "execution_count": null,
      "outputs": []
    },
    {
      "cell_type": "code",
      "source": [
        "df.isnull().sum()"
      ],
      "metadata": {
        "colab": {
          "base_uri": "https://localhost:8080/"
        },
        "id": "ffqVOnrfmcL2",
        "outputId": "a94837b2-92b2-4e9b-d705-daf6823f8cc0"
      },
      "execution_count": null,
      "outputs": [
        {
          "output_type": "execute_result",
          "data": {
            "text/plain": [
              "title            0\n",
              "channel_title    0\n",
              "tags             0\n",
              "description      0\n",
              "dtype: int64"
            ]
          },
          "metadata": {},
          "execution_count": 75
        }
      ]
    },
    {
      "cell_type": "code",
      "source": [
        "df.info()"
      ],
      "metadata": {
        "colab": {
          "base_uri": "https://localhost:8080/"
        },
        "id": "LLZXZ-HxmgAR",
        "outputId": "aa8ba2f6-442a-4eeb-a2d3-5358d73485d6"
      },
      "execution_count": null,
      "outputs": [
        {
          "output_type": "stream",
          "name": "stdout",
          "text": [
            "<class 'pandas.core.frame.DataFrame'>\n",
            "Int64Index: 24573 entries, 0 to 40880\n",
            "Data columns (total 4 columns):\n",
            " #   Column         Non-Null Count  Dtype \n",
            "---  ------         --------------  ----- \n",
            " 0   title          24573 non-null  object\n",
            " 1   channel_title  24573 non-null  object\n",
            " 2   tags           24573 non-null  object\n",
            " 3   description    24573 non-null  object\n",
            "dtypes: object(4)\n",
            "memory usage: 959.9+ KB\n"
          ]
        }
      ]
    },
    {
      "cell_type": "code",
      "source": [
        "df['overview'] = df['channel_title']+\" \"+ df['tags']+\" \"+df['description']"
      ],
      "metadata": {
        "id": "oKDrRQwKmlIh"
      },
      "execution_count": null,
      "outputs": []
    },
    {
      "cell_type": "code",
      "source": [
        "df.head()"
      ],
      "metadata": {
        "colab": {
          "base_uri": "https://localhost:8080/",
          "height": 285
        },
        "id": "x1blGdS-nF2x",
        "outputId": "8531c7b3-9657-447c-d340-58210ce754da"
      },
      "execution_count": null,
      "outputs": [
        {
          "output_type": "execute_result",
          "data": {
            "text/plain": [
              "                                               title channel_title  \\\n",
              "0         Eminem - Walk On Water (Audio) ft. Beyoncé    EminemVEVO   \n",
              "1                      PLUSH - Bad Unboxing Fan Mail     iDubbbzTV   \n",
              "2  Racist Superman | Rudy Mancuso, King Bach & Le...  Rudy Mancuso   \n",
              "3                           I Dare You: GOING BALD!?      nigahiga   \n",
              "4        Ed Sheeran - Perfect (Official Music Video)    Ed Sheeran   \n",
              "\n",
              "                                                tags  \\\n",
              "0  Eminem|\"Walk\"|\"On\"|\"Water\"|\"Aftermath/Shady/In...   \n",
              "1  plush|\"bad unboxing\"|\"unboxing\"|\"fan mail\"|\"id...   \n",
              "2  racist superman|\"rudy\"|\"mancuso\"|\"king\"|\"bach\"...   \n",
              "3  ryan|\"higa\"|\"higatv\"|\"nigahiga\"|\"i dare you\"|\"...   \n",
              "4  edsheeran|\"ed sheeran\"|\"acoustic\"|\"live\"|\"cove...   \n",
              "\n",
              "                                         description  \\\n",
              "0  Eminem's new track Walk on Water ft. Beyoncé i...   \n",
              "1  STill got a lot of packages. Probably will las...   \n",
              "2  WATCH MY PREVIOUS VIDEO ▶ \\n\\nSUBSCRIBE ► http...   \n",
              "3  I know it's been a while since we did this sho...   \n",
              "4  🎧: https://ad.gt/yt-perfect\\n💰: https://atlant...   \n",
              "\n",
              "                                            overview  \n",
              "0  EminemVEVO Eminem|\"Walk\"|\"On\"|\"Water\"|\"Afterma...  \n",
              "1  iDubbbzTV plush|\"bad unboxing\"|\"unboxing\"|\"fan...  \n",
              "2  Rudy Mancuso racist superman|\"rudy\"|\"mancuso\"|...  \n",
              "3  nigahiga ryan|\"higa\"|\"higatv\"|\"nigahiga\"|\"i da...  \n",
              "4  Ed Sheeran edsheeran|\"ed sheeran\"|\"acoustic\"|\"...  "
            ],
            "text/html": [
              "\n",
              "  <div id=\"df-cb324bd6-5cb6-4e89-a905-f4a4572e564c\">\n",
              "    <div class=\"colab-df-container\">\n",
              "      <div>\n",
              "<style scoped>\n",
              "    .dataframe tbody tr th:only-of-type {\n",
              "        vertical-align: middle;\n",
              "    }\n",
              "\n",
              "    .dataframe tbody tr th {\n",
              "        vertical-align: top;\n",
              "    }\n",
              "\n",
              "    .dataframe thead th {\n",
              "        text-align: right;\n",
              "    }\n",
              "</style>\n",
              "<table border=\"1\" class=\"dataframe\">\n",
              "  <thead>\n",
              "    <tr style=\"text-align: right;\">\n",
              "      <th></th>\n",
              "      <th>title</th>\n",
              "      <th>channel_title</th>\n",
              "      <th>tags</th>\n",
              "      <th>description</th>\n",
              "      <th>overview</th>\n",
              "    </tr>\n",
              "  </thead>\n",
              "  <tbody>\n",
              "    <tr>\n",
              "      <th>0</th>\n",
              "      <td>Eminem - Walk On Water (Audio) ft. Beyoncé</td>\n",
              "      <td>EminemVEVO</td>\n",
              "      <td>Eminem|\"Walk\"|\"On\"|\"Water\"|\"Aftermath/Shady/In...</td>\n",
              "      <td>Eminem's new track Walk on Water ft. Beyoncé i...</td>\n",
              "      <td>EminemVEVO Eminem|\"Walk\"|\"On\"|\"Water\"|\"Afterma...</td>\n",
              "    </tr>\n",
              "    <tr>\n",
              "      <th>1</th>\n",
              "      <td>PLUSH - Bad Unboxing Fan Mail</td>\n",
              "      <td>iDubbbzTV</td>\n",
              "      <td>plush|\"bad unboxing\"|\"unboxing\"|\"fan mail\"|\"id...</td>\n",
              "      <td>STill got a lot of packages. Probably will las...</td>\n",
              "      <td>iDubbbzTV plush|\"bad unboxing\"|\"unboxing\"|\"fan...</td>\n",
              "    </tr>\n",
              "    <tr>\n",
              "      <th>2</th>\n",
              "      <td>Racist Superman | Rudy Mancuso, King Bach &amp; Le...</td>\n",
              "      <td>Rudy Mancuso</td>\n",
              "      <td>racist superman|\"rudy\"|\"mancuso\"|\"king\"|\"bach\"...</td>\n",
              "      <td>WATCH MY PREVIOUS VIDEO ▶ \\n\\nSUBSCRIBE ► http...</td>\n",
              "      <td>Rudy Mancuso racist superman|\"rudy\"|\"mancuso\"|...</td>\n",
              "    </tr>\n",
              "    <tr>\n",
              "      <th>3</th>\n",
              "      <td>I Dare You: GOING BALD!?</td>\n",
              "      <td>nigahiga</td>\n",
              "      <td>ryan|\"higa\"|\"higatv\"|\"nigahiga\"|\"i dare you\"|\"...</td>\n",
              "      <td>I know it's been a while since we did this sho...</td>\n",
              "      <td>nigahiga ryan|\"higa\"|\"higatv\"|\"nigahiga\"|\"i da...</td>\n",
              "    </tr>\n",
              "    <tr>\n",
              "      <th>4</th>\n",
              "      <td>Ed Sheeran - Perfect (Official Music Video)</td>\n",
              "      <td>Ed Sheeran</td>\n",
              "      <td>edsheeran|\"ed sheeran\"|\"acoustic\"|\"live\"|\"cove...</td>\n",
              "      <td>🎧: https://ad.gt/yt-perfect\\n💰: https://atlant...</td>\n",
              "      <td>Ed Sheeran edsheeran|\"ed sheeran\"|\"acoustic\"|\"...</td>\n",
              "    </tr>\n",
              "  </tbody>\n",
              "</table>\n",
              "</div>\n",
              "      <button class=\"colab-df-convert\" onclick=\"convertToInteractive('df-cb324bd6-5cb6-4e89-a905-f4a4572e564c')\"\n",
              "              title=\"Convert this dataframe to an interactive table.\"\n",
              "              style=\"display:none;\">\n",
              "        \n",
              "  <svg xmlns=\"http://www.w3.org/2000/svg\" height=\"24px\"viewBox=\"0 0 24 24\"\n",
              "       width=\"24px\">\n",
              "    <path d=\"M0 0h24v24H0V0z\" fill=\"none\"/>\n",
              "    <path d=\"M18.56 5.44l.94 2.06.94-2.06 2.06-.94-2.06-.94-.94-2.06-.94 2.06-2.06.94zm-11 1L8.5 8.5l.94-2.06 2.06-.94-2.06-.94L8.5 2.5l-.94 2.06-2.06.94zm10 10l.94 2.06.94-2.06 2.06-.94-2.06-.94-.94-2.06-.94 2.06-2.06.94z\"/><path d=\"M17.41 7.96l-1.37-1.37c-.4-.4-.92-.59-1.43-.59-.52 0-1.04.2-1.43.59L10.3 9.45l-7.72 7.72c-.78.78-.78 2.05 0 2.83L4 21.41c.39.39.9.59 1.41.59.51 0 1.02-.2 1.41-.59l7.78-7.78 2.81-2.81c.8-.78.8-2.07 0-2.86zM5.41 20L4 18.59l7.72-7.72 1.47 1.35L5.41 20z\"/>\n",
              "  </svg>\n",
              "      </button>\n",
              "      \n",
              "  <style>\n",
              "    .colab-df-container {\n",
              "      display:flex;\n",
              "      flex-wrap:wrap;\n",
              "      gap: 12px;\n",
              "    }\n",
              "\n",
              "    .colab-df-convert {\n",
              "      background-color: #E8F0FE;\n",
              "      border: none;\n",
              "      border-radius: 50%;\n",
              "      cursor: pointer;\n",
              "      display: none;\n",
              "      fill: #1967D2;\n",
              "      height: 32px;\n",
              "      padding: 0 0 0 0;\n",
              "      width: 32px;\n",
              "    }\n",
              "\n",
              "    .colab-df-convert:hover {\n",
              "      background-color: #E2EBFA;\n",
              "      box-shadow: 0px 1px 2px rgba(60, 64, 67, 0.3), 0px 1px 3px 1px rgba(60, 64, 67, 0.15);\n",
              "      fill: #174EA6;\n",
              "    }\n",
              "\n",
              "    [theme=dark] .colab-df-convert {\n",
              "      background-color: #3B4455;\n",
              "      fill: #D2E3FC;\n",
              "    }\n",
              "\n",
              "    [theme=dark] .colab-df-convert:hover {\n",
              "      background-color: #434B5C;\n",
              "      box-shadow: 0px 1px 3px 1px rgba(0, 0, 0, 0.15);\n",
              "      filter: drop-shadow(0px 1px 2px rgba(0, 0, 0, 0.3));\n",
              "      fill: #FFFFFF;\n",
              "    }\n",
              "  </style>\n",
              "\n",
              "      <script>\n",
              "        const buttonEl =\n",
              "          document.querySelector('#df-cb324bd6-5cb6-4e89-a905-f4a4572e564c button.colab-df-convert');\n",
              "        buttonEl.style.display =\n",
              "          google.colab.kernel.accessAllowed ? 'block' : 'none';\n",
              "\n",
              "        async function convertToInteractive(key) {\n",
              "          const element = document.querySelector('#df-cb324bd6-5cb6-4e89-a905-f4a4572e564c');\n",
              "          const dataTable =\n",
              "            await google.colab.kernel.invokeFunction('convertToInteractive',\n",
              "                                                     [key], {});\n",
              "          if (!dataTable) return;\n",
              "\n",
              "          const docLinkHtml = 'Like what you see? Visit the ' +\n",
              "            '<a target=\"_blank\" href=https://colab.research.google.com/notebooks/data_table.ipynb>data table notebook</a>'\n",
              "            + ' to learn more about interactive tables.';\n",
              "          element.innerHTML = '';\n",
              "          dataTable['output_type'] = 'display_data';\n",
              "          await google.colab.output.renderOutput(dataTable, element);\n",
              "          const docLink = document.createElement('div');\n",
              "          docLink.innerHTML = docLinkHtml;\n",
              "          element.appendChild(docLink);\n",
              "        }\n",
              "      </script>\n",
              "    </div>\n",
              "  </div>\n",
              "  "
            ]
          },
          "metadata": {},
          "execution_count": 78
        }
      ]
    },
    {
      "cell_type": "code",
      "source": [
        "df.drop(columns=['channel_title', 'tags', 'description'], inplace=True)\n",
        "df.head()"
      ],
      "metadata": {
        "colab": {
          "base_uri": "https://localhost:8080/",
          "height": 206
        },
        "id": "5QuZ56krnGyh",
        "outputId": "f8697a5b-5e7e-4882-a862-2751d639d54e"
      },
      "execution_count": null,
      "outputs": [
        {
          "output_type": "execute_result",
          "data": {
            "text/plain": [
              "                                               title  \\\n",
              "0         Eminem - Walk On Water (Audio) ft. Beyoncé   \n",
              "1                      PLUSH - Bad Unboxing Fan Mail   \n",
              "2  Racist Superman | Rudy Mancuso, King Bach & Le...   \n",
              "3                           I Dare You: GOING BALD!?   \n",
              "4        Ed Sheeran - Perfect (Official Music Video)   \n",
              "\n",
              "                                            overview  \n",
              "0  EminemVEVO Eminem|\"Walk\"|\"On\"|\"Water\"|\"Afterma...  \n",
              "1  iDubbbzTV plush|\"bad unboxing\"|\"unboxing\"|\"fan...  \n",
              "2  Rudy Mancuso racist superman|\"rudy\"|\"mancuso\"|...  \n",
              "3  nigahiga ryan|\"higa\"|\"higatv\"|\"nigahiga\"|\"i da...  \n",
              "4  Ed Sheeran edsheeran|\"ed sheeran\"|\"acoustic\"|\"...  "
            ],
            "text/html": [
              "\n",
              "  <div id=\"df-cfbc0ded-9e63-4ed3-b21a-fd79a60ce7e8\">\n",
              "    <div class=\"colab-df-container\">\n",
              "      <div>\n",
              "<style scoped>\n",
              "    .dataframe tbody tr th:only-of-type {\n",
              "        vertical-align: middle;\n",
              "    }\n",
              "\n",
              "    .dataframe tbody tr th {\n",
              "        vertical-align: top;\n",
              "    }\n",
              "\n",
              "    .dataframe thead th {\n",
              "        text-align: right;\n",
              "    }\n",
              "</style>\n",
              "<table border=\"1\" class=\"dataframe\">\n",
              "  <thead>\n",
              "    <tr style=\"text-align: right;\">\n",
              "      <th></th>\n",
              "      <th>title</th>\n",
              "      <th>overview</th>\n",
              "    </tr>\n",
              "  </thead>\n",
              "  <tbody>\n",
              "    <tr>\n",
              "      <th>0</th>\n",
              "      <td>Eminem - Walk On Water (Audio) ft. Beyoncé</td>\n",
              "      <td>EminemVEVO Eminem|\"Walk\"|\"On\"|\"Water\"|\"Afterma...</td>\n",
              "    </tr>\n",
              "    <tr>\n",
              "      <th>1</th>\n",
              "      <td>PLUSH - Bad Unboxing Fan Mail</td>\n",
              "      <td>iDubbbzTV plush|\"bad unboxing\"|\"unboxing\"|\"fan...</td>\n",
              "    </tr>\n",
              "    <tr>\n",
              "      <th>2</th>\n",
              "      <td>Racist Superman | Rudy Mancuso, King Bach &amp; Le...</td>\n",
              "      <td>Rudy Mancuso racist superman|\"rudy\"|\"mancuso\"|...</td>\n",
              "    </tr>\n",
              "    <tr>\n",
              "      <th>3</th>\n",
              "      <td>I Dare You: GOING BALD!?</td>\n",
              "      <td>nigahiga ryan|\"higa\"|\"higatv\"|\"nigahiga\"|\"i da...</td>\n",
              "    </tr>\n",
              "    <tr>\n",
              "      <th>4</th>\n",
              "      <td>Ed Sheeran - Perfect (Official Music Video)</td>\n",
              "      <td>Ed Sheeran edsheeran|\"ed sheeran\"|\"acoustic\"|\"...</td>\n",
              "    </tr>\n",
              "  </tbody>\n",
              "</table>\n",
              "</div>\n",
              "      <button class=\"colab-df-convert\" onclick=\"convertToInteractive('df-cfbc0ded-9e63-4ed3-b21a-fd79a60ce7e8')\"\n",
              "              title=\"Convert this dataframe to an interactive table.\"\n",
              "              style=\"display:none;\">\n",
              "        \n",
              "  <svg xmlns=\"http://www.w3.org/2000/svg\" height=\"24px\"viewBox=\"0 0 24 24\"\n",
              "       width=\"24px\">\n",
              "    <path d=\"M0 0h24v24H0V0z\" fill=\"none\"/>\n",
              "    <path d=\"M18.56 5.44l.94 2.06.94-2.06 2.06-.94-2.06-.94-.94-2.06-.94 2.06-2.06.94zm-11 1L8.5 8.5l.94-2.06 2.06-.94-2.06-.94L8.5 2.5l-.94 2.06-2.06.94zm10 10l.94 2.06.94-2.06 2.06-.94-2.06-.94-.94-2.06-.94 2.06-2.06.94z\"/><path d=\"M17.41 7.96l-1.37-1.37c-.4-.4-.92-.59-1.43-.59-.52 0-1.04.2-1.43.59L10.3 9.45l-7.72 7.72c-.78.78-.78 2.05 0 2.83L4 21.41c.39.39.9.59 1.41.59.51 0 1.02-.2 1.41-.59l7.78-7.78 2.81-2.81c.8-.78.8-2.07 0-2.86zM5.41 20L4 18.59l7.72-7.72 1.47 1.35L5.41 20z\"/>\n",
              "  </svg>\n",
              "      </button>\n",
              "      \n",
              "  <style>\n",
              "    .colab-df-container {\n",
              "      display:flex;\n",
              "      flex-wrap:wrap;\n",
              "      gap: 12px;\n",
              "    }\n",
              "\n",
              "    .colab-df-convert {\n",
              "      background-color: #E8F0FE;\n",
              "      border: none;\n",
              "      border-radius: 50%;\n",
              "      cursor: pointer;\n",
              "      display: none;\n",
              "      fill: #1967D2;\n",
              "      height: 32px;\n",
              "      padding: 0 0 0 0;\n",
              "      width: 32px;\n",
              "    }\n",
              "\n",
              "    .colab-df-convert:hover {\n",
              "      background-color: #E2EBFA;\n",
              "      box-shadow: 0px 1px 2px rgba(60, 64, 67, 0.3), 0px 1px 3px 1px rgba(60, 64, 67, 0.15);\n",
              "      fill: #174EA6;\n",
              "    }\n",
              "\n",
              "    [theme=dark] .colab-df-convert {\n",
              "      background-color: #3B4455;\n",
              "      fill: #D2E3FC;\n",
              "    }\n",
              "\n",
              "    [theme=dark] .colab-df-convert:hover {\n",
              "      background-color: #434B5C;\n",
              "      box-shadow: 0px 1px 3px 1px rgba(0, 0, 0, 0.15);\n",
              "      filter: drop-shadow(0px 1px 2px rgba(0, 0, 0, 0.3));\n",
              "      fill: #FFFFFF;\n",
              "    }\n",
              "  </style>\n",
              "\n",
              "      <script>\n",
              "        const buttonEl =\n",
              "          document.querySelector('#df-cfbc0ded-9e63-4ed3-b21a-fd79a60ce7e8 button.colab-df-convert');\n",
              "        buttonEl.style.display =\n",
              "          google.colab.kernel.accessAllowed ? 'block' : 'none';\n",
              "\n",
              "        async function convertToInteractive(key) {\n",
              "          const element = document.querySelector('#df-cfbc0ded-9e63-4ed3-b21a-fd79a60ce7e8');\n",
              "          const dataTable =\n",
              "            await google.colab.kernel.invokeFunction('convertToInteractive',\n",
              "                                                     [key], {});\n",
              "          if (!dataTable) return;\n",
              "\n",
              "          const docLinkHtml = 'Like what you see? Visit the ' +\n",
              "            '<a target=\"_blank\" href=https://colab.research.google.com/notebooks/data_table.ipynb>data table notebook</a>'\n",
              "            + ' to learn more about interactive tables.';\n",
              "          element.innerHTML = '';\n",
              "          dataTable['output_type'] = 'display_data';\n",
              "          await google.colab.output.renderOutput(dataTable, element);\n",
              "          const docLink = document.createElement('div');\n",
              "          docLink.innerHTML = docLinkHtml;\n",
              "          element.appendChild(docLink);\n",
              "        }\n",
              "      </script>\n",
              "    </div>\n",
              "  </div>\n",
              "  "
            ]
          },
          "metadata": {},
          "execution_count": 79
        }
      ]
    },
    {
      "cell_type": "markdown",
      "source": [
        "# Using LDA"
      ],
      "metadata": {
        "id": "n21UNkwXgIJ7"
      }
    },
    {
      "cell_type": "code",
      "source": [
        "import warnings\n",
        "warnings.filterwarnings(\"ignore\")\n",
        "\n",
        "# Importing modules\n",
        "import pandas as pd\n",
        "import numpy as np\n",
        "import os\n",
        "import re\n",
        "\n",
        "# LDA Model\n",
        "import gensim\n",
        "from gensim.utils import simple_preprocess\n",
        "import gensim.corpora as corpora\n",
        "from pprint import pprint\n",
        "from gensim.models import CoherenceModel\n",
        "import spacy\n",
        "from nltk.corpus import stopwords\n",
        "\n",
        "# Import the wordcloud library\n",
        "from wordcloud import WordCloud\n",
        "!pip install pyLDAvis\n",
        "\n",
        "\n",
        "# Visualize the topics\n",
        "import pyLDAvis\n",
        "import pyLDAvis.gensim_models\n",
        "import pickle \n",
        "import pyLDAvis"
      ],
      "metadata": {
        "colab": {
          "base_uri": "https://localhost:8080/"
        },
        "id": "FJMba1XzgKaA",
        "outputId": "c7fea205-18da-4027-c088-dfdf4c258264"
      },
      "execution_count": null,
      "outputs": [
        {
          "output_type": "stream",
          "name": "stdout",
          "text": [
            "Requirement already satisfied: pyLDAvis in /usr/local/lib/python3.7/dist-packages (3.3.1)\n",
            "Requirement already satisfied: gensim in /usr/local/lib/python3.7/dist-packages (from pyLDAvis) (3.6.0)\n",
            "Requirement already satisfied: future in /usr/local/lib/python3.7/dist-packages (from pyLDAvis) (0.16.0)\n",
            "Requirement already satisfied: funcy in /usr/local/lib/python3.7/dist-packages (from pyLDAvis) (1.17)\n",
            "Requirement already satisfied: sklearn in /usr/local/lib/python3.7/dist-packages (from pyLDAvis) (0.0)\n",
            "Requirement already satisfied: jinja2 in /usr/local/lib/python3.7/dist-packages (from pyLDAvis) (2.11.3)\n",
            "Requirement already satisfied: pandas>=1.2.0 in /usr/local/lib/python3.7/dist-packages (from pyLDAvis) (1.3.5)\n",
            "Requirement already satisfied: numexpr in /usr/local/lib/python3.7/dist-packages (from pyLDAvis) (2.8.1)\n",
            "Requirement already satisfied: scipy in /usr/local/lib/python3.7/dist-packages (from pyLDAvis) (1.4.1)\n",
            "Requirement already satisfied: scikit-learn in /usr/local/lib/python3.7/dist-packages (from pyLDAvis) (1.0.2)\n",
            "Requirement already satisfied: joblib in /usr/local/lib/python3.7/dist-packages (from pyLDAvis) (1.1.0)\n",
            "Requirement already satisfied: numpy>=1.20.0 in /usr/local/lib/python3.7/dist-packages (from pyLDAvis) (1.21.6)\n",
            "Requirement already satisfied: setuptools in /usr/local/lib/python3.7/dist-packages (from pyLDAvis) (57.4.0)\n",
            "Requirement already satisfied: pytz>=2017.3 in /usr/local/lib/python3.7/dist-packages (from pandas>=1.2.0->pyLDAvis) (2022.1)\n",
            "Requirement already satisfied: python-dateutil>=2.7.3 in /usr/local/lib/python3.7/dist-packages (from pandas>=1.2.0->pyLDAvis) (2.8.2)\n",
            "Requirement already satisfied: six>=1.5 in /usr/local/lib/python3.7/dist-packages (from python-dateutil>=2.7.3->pandas>=1.2.0->pyLDAvis) (1.15.0)\n",
            "Requirement already satisfied: smart-open>=1.2.1 in /usr/local/lib/python3.7/dist-packages (from gensim->pyLDAvis) (5.2.1)\n",
            "Requirement already satisfied: MarkupSafe>=0.23 in /usr/local/lib/python3.7/dist-packages (from jinja2->pyLDAvis) (2.0.1)\n",
            "Requirement already satisfied: packaging in /usr/local/lib/python3.7/dist-packages (from numexpr->pyLDAvis) (21.3)\n",
            "Requirement already satisfied: pyparsing!=3.0.5,>=2.0.2 in /usr/local/lib/python3.7/dist-packages (from packaging->numexpr->pyLDAvis) (3.0.8)\n",
            "Requirement already satisfied: threadpoolctl>=2.0.0 in /usr/local/lib/python3.7/dist-packages (from scikit-learn->pyLDAvis) (3.1.0)\n"
          ]
        }
      ]
    },
    {
      "cell_type": "markdown",
      "source": [
        "## Text Preprocessing"
      ],
      "metadata": {
        "id": "g5kr5hE5qUna"
      }
    },
    {
      "cell_type": "code",
      "source": [
        "# Remove Non-english words\n",
        "\n",
        "df['overview']= df['overview'].map(lambda x: re.sub('([^\\x00-\\x7F])+ ','', x))\n",
        "\n",
        "# Tokenization\n",
        "def sentence_to_words(sentences):\n",
        " for sentence in sentences:\n",
        "  yield(gensim.utils.simple_preprocess(str(sentence), deacc=True)) # deacc=True removes punctuations and special characters\n",
        "\n",
        "all_words = list(sentence_to_words(df['overview']))\n",
        "\n",
        "\n",
        "# remove stopwords\n",
        "import nltk\n",
        "nltk.download('stopwords')\n",
        "\n",
        "stop_words = stopwords.words('english')\n",
        "\n",
        "# stop_words.extend(['']) #extend existing stop word list if needed\n",
        "def remove_stopwords(texts):\n",
        " return [[word for word in simple_preprocess(str(doc)) if word not in stop_words] for doc in texts]\n",
        "\n",
        "\n",
        "# Building  the bigram \n",
        "bigram = gensim.models.Phrases(all_words, min_count=5, threshold=10) \n",
        "\n",
        "bigram_mod = gensim.models.phrases.Phraser(bigram)\n",
        "def create_bigrams(texts):\n",
        " return [bigram_mod[doc] for doc in texts]\n",
        "\n",
        "# Lemmatization\n",
        "def lemmatization(texts, allowed_postags=['NOUN', 'ADJ', 'VERB', 'ADV']):\n",
        " texts_out = []\n",
        " for sent in texts:\n",
        "  doc = nlp(\" \".join(sent)) \n",
        "  texts_out.append([token.lemma_ for token in doc if token.pos_ in allowed_postags])\n",
        " return texts_out"
      ],
      "metadata": {
        "colab": {
          "base_uri": "https://localhost:8080/"
        },
        "id": "wIMAsc9GgUor",
        "outputId": "ba5ec9ed-90c9-43d7-f2b1-862cafbaeea8"
      },
      "execution_count": null,
      "outputs": [
        {
          "output_type": "stream",
          "name": "stdout",
          "text": [
            "[nltk_data] Downloading package stopwords to /root/nltk_data...\n",
            "[nltk_data]   Package stopwords is already up-to-date!\n"
          ]
        }
      ]
    },
    {
      "cell_type": "code",
      "source": [
        "all_words_nostops = remove_stopwords(all_words)\n",
        "all_words_bigrams = create_bigrams(all_words_nostops)\n",
        "nlp = spacy.load(\"en_core_web_sm\", disable=['parser', 'ner'])\n",
        "data_lemmatized = lemmatization(all_words_bigrams, allowed_postags=['NOUN', 'ADJ', 'VERB', 'ADV'])\n",
        "print(data_lemmatized[:1])\n"
      ],
      "metadata": {
        "colab": {
          "base_uri": "https://localhost:8080/"
        },
        "id": "I7goZW7gqqmH",
        "outputId": "6efafb85-d046-4e6a-c30f-9c4e800d6936"
      },
      "execution_count": null,
      "outputs": [
        {
          "output_type": "stream",
          "name": "stdout",
          "text": [
            "[['walk', 'water', 'water', 'good', 'twitter', 'com', 'nhttp', 'facebook', 'com', 'twitter', 'com', 'shadyrecords_nhttp', 'instagram', 'com', 'shadyrecords_nhttp', 'com', 'nmusic', 'video', 'eminem_performe', 'walk', 'water', 'nhttp_vevo', 'ly']]\n"
          ]
        }
      ]
    },
    {
      "cell_type": "markdown",
      "source": [
        "##LDA"
      ],
      "metadata": {
        "id": "ka9XcCkFqzGW"
      }
    },
    {
      "cell_type": "code",
      "source": [
        "# Create Dictionary\n",
        "id2word = corpora.Dictionary(data_lemmatized)\n",
        "\n",
        "# Filter out tokens that appear in only 1 documents and appear in more than 90% of the documents\n",
        "id2word.filter_extremes(no_below=2, no_above=0.9)\n",
        "\n",
        "# Create Corpus\n",
        "texts = data_lemmatized\n",
        "\n",
        "# Term Document Frequency\n",
        "corpus = [id2word.doc2bow(text) for text in texts]"
      ],
      "metadata": {
        "id": "DOjbgZmxi0z0"
      },
      "execution_count": null,
      "outputs": []
    },
    {
      "cell_type": "code",
      "source": [
        "# Building LDA model for 10 topics\n",
        "lda_model = gensim.models.LdaMulticore(corpus=corpus,\n",
        "                                       id2word=id2word,\n",
        "                                       num_topics=10, \n",
        "                                       random_state=100,\n",
        "                                       chunksize=100,\n",
        "                                       passes=10,\n",
        "                                       per_word_topics=True)"
      ],
      "metadata": {
        "id": "67wAO156m8mG"
      },
      "execution_count": null,
      "outputs": []
    },
    {
      "cell_type": "code",
      "source": [
        "# Printing the Keywords in the 10 topics\n",
        "pprint(lda_model.print_topics())\n",
        "doc_lda = lda_model[corpus]"
      ],
      "metadata": {
        "colab": {
          "base_uri": "https://localhost:8080/"
        },
        "id": "qs2kHQ4MnCr6",
        "outputId": "007b9b3e-c531-43bc-ecdf-25851bbc164e"
      },
      "execution_count": null,
      "outputs": [
        {
          "output_type": "stream",
          "name": "stdout",
          "text": [
            "[(0,\n",
            "  '0.039*\"http_bit\" + 0.024*\"drama\" + 0.018*\"official\" + 0.017*\"episode\" + '\n",
            "  '0.017*\"child\" + 0.015*\"none\" + 0.013*\"family\" + 0.013*\"twitter\" + '\n",
            "  '0.013*\"tulfo\" + 0.012*\"content\"'),\n",
            " (1,\n",
            "  '0.103*\"http_bit\" + 0.041*\"https_goo\" + 0.027*\"https\" + 0.020*\"ly\" + '\n",
            "  '0.017*\"video\" + 0.012*\"subscribe\" + 0.011*\"makeup\" + 0.009*\"make\" + '\n",
            "  '0.008*\"product\" + 0.007*\"dog\"'),\n",
            " (2,\n",
            "  '0.248*\"com\" + 0.081*\"https\" + 0.071*\"http\" + 0.056*\"twitter\" + '\n",
            "  '0.032*\"youtube\" + 0.030*\"instagram\" + 0.024*\"www\" + 0.022*\"watch\" + '\n",
            "  '0.012*\"video\" + 0.010*\"facebook\"'),\n",
            " (3,\n",
            "  '0.101*\"com\" + 0.031*\"video\" + 0.030*\"music\" + 0.026*\"twitter\" + '\n",
            "  '0.024*\"http\" + 0.017*\"movie\" + 0.017*\"song\" + 0.016*\"instagram\" + '\n",
            "  '0.016*\"new\" + 0.014*\"www\"'),\n",
            " (4,\n",
            "  '0.031*\"show\" + 0.027*\"news\" + 0.025*\"live\" + 0.021*\"twitter\" + '\n",
            "  '0.021*\"http_bit\" + 0.017*\"funny\" + 0.016*\"tv\" + 0.014*\"watch\" + '\n",
            "  '0.013*\"video\" + 0.010*\"subscribe\"'),\n",
            " (5,\n",
            "  '0.035*\"game\" + 0.018*\"fortnite\" + 0.014*\"season\" + 0.013*\"play\" + '\n",
            "  '0.013*\"lava\" + 0.011*\"first\" + 0.011*\"team\" + 0.011*\"win\" + 0.010*\"final\" + '\n",
            "  '0.008*\"update\"'),\n",
            " (6,\n",
            "  '0.021*\"today\" + 0.020*\"news\" + 0.020*\"trump\" + 0.014*\"say\" + 0.012*\"video\" '\n",
            "  '+ 0.010*\"show\" + 0.010*\"summit\" + 0.009*\"http\" + 0.006*\"day\" + 0.005*\"hot\"'),\n",
            " (7,\n",
            "  '0.021*\"make\" + 0.020*\"video\" + 0.014*\"food\" + 0.013*\"go\" + 0.013*\"get\" + '\n",
            "  '0.012*\"see\" + 0.011*\"good\" + 0.011*\"try\" + 0.011*\"know\" + 0.010*\"love\"'),\n",
            " (8,\n",
            "  '0.024*\"video\" + 0.020*\"use\" + 0.019*\"report\" + 0.016*\"youtube\" + '\n",
            "  '0.016*\"follow\" + 0.015*\"espn\" + 0.015*\"twitter\" + 0.014*\"fail\" + '\n",
            "  '0.011*\"highlight\" + 0.011*\"warrior\"'),\n",
            " (9,\n",
            "  '0.060*\"com\" + 0.019*\"watch\" + 0.016*\"https\" + 0.014*\"http\" + 0.011*\"www\" + '\n",
            "  '0.010*\"story\" + 0.009*\"twitter\" + 0.008*\"people\" + 0.008*\"find\" + '\n",
            "  '0.007*\"itunes_apple\"')]\n"
          ]
        }
      ]
    },
    {
      "cell_type": "code",
      "source": [
        "def Sort_Tuple(tup):  \n",
        "    return(sorted(tup, key = lambda x: x[1], reverse = True))   \n",
        "\n",
        "doc_number , topic_number, prob = [], [], []\n",
        "print(lda_model.get_document_topics(corpus))\n",
        "for n in range(len(df)):\n",
        "    get_document_topics = lda_model.get_document_topics(corpus[n])\n",
        "    doc_number.append(n)\n",
        "    sorted_doc_topics = Sort_Tuple(get_document_topics)\n",
        "    topic_number.append(sorted_doc_topics[0][0])\n",
        "    prob.append(sorted_doc_topics[0][1])"
      ],
      "metadata": {
        "colab": {
          "base_uri": "https://localhost:8080/"
        },
        "id": "6hdpBFEvoJg-",
        "outputId": "bd73e123-d85c-457c-8bf2-7f3bcdf80f15"
      },
      "execution_count": null,
      "outputs": [
        {
          "output_type": "stream",
          "name": "stdout",
          "text": [
            "<gensim.interfaces.TransformedCorpus object at 0x7f146b2d4a50>\n"
          ]
        }
      ]
    },
    {
      "cell_type": "code",
      "source": [
        "df['Doc'] = doc_number\n",
        "df['Topic'] = topic_number\n",
        "df['Probability'] = prob\n",
        "df.to_csv(\"doc_topic_matrix.csv\", index=False)"
      ],
      "metadata": {
        "id": "cs33mQy8pcQo"
      },
      "execution_count": null,
      "outputs": []
    },
    {
      "cell_type": "markdown",
      "source": [
        "## Recommendation System"
      ],
      "metadata": {
        "id": "TSXh_cK1rCOp"
      }
    },
    {
      "cell_type": "code",
      "source": [
        "def recommend_by_title(title, df):\n",
        "\n",
        "    recommended = []\n",
        "    top10_list = []\n",
        "    \n",
        "    title = title.lower()\n",
        "    df['title'] = df['title'].str.lower()\n",
        "    \n",
        "    topic_number = df[df['title']==title].Topic.values\n",
        "    doc_number = df[df['title']==title].Doc.values    \n",
        "        \n",
        "    output = df[df['Topic']==topic_number[0]].sort_values('Probability', ascending=False).reset_index(drop=True)\n",
        "\n",
        "    index = output[output['Doc']==doc_number[0]].index[0]\n",
        "    \n",
        "    top10_list += list(output.iloc[index-5:index].index)\n",
        "    top10_list += list(output.iloc[index+1:index+6].index)\n",
        "    \n",
        "    output['title'] = output['title'].str.title()\n",
        "    \n",
        "    for each in top10_list:\n",
        "        recommended.append(output.iloc[each].title)\n",
        "        \n",
        "    return recommended"
      ],
      "metadata": {
        "id": "zlzoTq8vnGWF"
      },
      "execution_count": null,
      "outputs": []
    },
    {
      "cell_type": "code",
      "source": [
        "recommend_by_title('Throwing Things Into A Fan!', df)"
      ],
      "metadata": {
        "colab": {
          "base_uri": "https://localhost:8080/"
        },
        "id": "N6r6aSqeoVIx",
        "outputId": "ae0e01f4-3d6f-49a9-d08c-cf2d86fe156d"
      },
      "execution_count": null,
      "outputs": [
        {
          "output_type": "execute_result",
          "data": {
            "text/plain": [
              "[\"Why You Shouldn'T Watch Tv Talent Shows (The Voice, X-Factor, Got Talent, American Idol...)\",\n",
              " 'Batman Forever - Nostalgia Critic',\n",
              " 'The Return Of Netflix And Chill!',\n",
              " 'I Am Just An Icon Living',\n",
              " 'The 2018 Iphone X Plus Will Be Big!',\n",
              " 'Martinez Twins - Feliz Navidad (Official Music Video)',\n",
              " '180214 Weekly Idol Ep 342 [Eng Sub] - Seventeen',\n",
              " 'The Man Who Killed Don Quixote Official Trailer (2018) Adam Driver,  Terry Gilliam Movie Hd',\n",
              " 'Top 10 Youtubers Who Ruined Their Careers With A Single Video',\n",
              " '“We Are Being Set Up” Stay Safe, Pa Patriots – #Qanon @Backchannel17 Fake? You Don’T Say! #Newq']"
            ]
          },
          "metadata": {},
          "execution_count": 104
        }
      ]
    },
    {
      "cell_type": "code",
      "source": [
        "recommend_by_title('I Dare You: GOING BALD!?', df)"
      ],
      "metadata": {
        "colab": {
          "base_uri": "https://localhost:8080/"
        },
        "id": "1bLNBTePp8UG",
        "outputId": "e30fa7d3-78ee-4261-988b-b6c0ce6cf7d6"
      },
      "execution_count": null,
      "outputs": [
        {
          "output_type": "execute_result",
          "data": {
            "text/plain": [
              "['Dinosaur Fossil Cake Ft Matpat! - Nerdy Nummies',\n",
              " 'This Week In Stupid (07/01/2018)',\n",
              " \"New York Times Reports On Ufos & 'Black Money'\",\n",
              " 'Friends Trip 4 (Replay) - Episode 22 : Mathilde Critiquée Par Tout Le Monde ?',\n",
              " 'Ear Camera?| 10 Strange Tech Gadgets!',\n",
              " 'Boho Indie Room Decor From The Thrift Store?!',\n",
              " 'Whoever Wins, We Lose - Surfers Vs Skaters Gameplay',\n",
              " '5 Most Haunting Tinder Meet-Up Cases With Chilling Backstories',\n",
              " \"✨  Aja Tests The Cast Of Rupaul'S Drag Race Season 10 W/ The #Dragrace Herstory Quiz | Vh1\",\n",
              " 'Oklahoma City Thunder Vs New Orleans Pelicans - Full Game Highlights | Nov 20 | 2017-18 Nba Season']"
            ]
          },
          "metadata": {},
          "execution_count": 107
        }
      ]
    }
  ]
}